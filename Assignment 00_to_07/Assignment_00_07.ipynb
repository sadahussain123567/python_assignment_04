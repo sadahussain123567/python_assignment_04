{
 "cells": [
  {
   "cell_type": "markdown",
   "id": "63f52905",
   "metadata": {},
   "source": [
    "Assignment 00 to 07 \n",
    "\n",
    "00_intro_python"
   ]
  },
  {
   "cell_type": "code",
   "execution_count": null,
   "id": "5da400c1",
   "metadata": {},
   "outputs": [],
   "source": [
    "#01_add_two_numbers\n",
    "def main():\n",
    "  print(\"This program add two numbers\")\n",
    "  num1=int(input(\"Enter first number\"))\n",
    "  num2=int(input(\"Enter second number\"))\n",
    "  result=num1+num2\n",
    "  print(f\"Result={result}\")\n",
    "if __name__ == '__main__':\n",
    "    main()"
   ]
  },
  {
   "cell_type": "code",
   "execution_count": null,
   "id": "47af023f",
   "metadata": {},
   "outputs": [],
   "source": [
    "#02_agreement_bot\n",
    "def main():\n",
    "    print(\"User agreement bot\")\n",
    "    name=input(\"What's your favorite animal?\")\n",
    "    print(f\"My favorite animal is also {name}!\")\n",
    "if __name__ == '__main__':\n",
    "    main()"
   ]
  },
  {
   "cell_type": "code",
   "execution_count": null,
   "id": "0f52c007",
   "metadata": {},
   "outputs": [],
   "source": [
    "\n",
    "#03_fahrenheit_to_celsius\n",
    "def main():\n",
    "    print(\"This Program Convert Fahrenheit to Celsius\")\n",
    "    Temperature=float(input(\"Enter Temperature In Fahrenhiet\"))\n",
    "    degrees_celsius = (Temperature - 32) * 5/9\n",
    "    print(f\"Temperature: {Temperature}={degrees_celsius}\")\n",
    "if __name__ == '__main__':\n",
    "    main()"
   ]
  },
  {
   "cell_type": "code",
   "execution_count": null,
   "id": "a3d29b92",
   "metadata": {},
   "outputs": [],
   "source": [
    "#04_how_old_are_they\n",
    "def main():\n",
    "    Anton=21\n",
    "    Beth=Anton+6\n",
    "    chen=Beth+20\n",
    "    Drew=chen+Anton\n",
    "    Ethan=chen\n",
    "\n",
    "    print(f\"Anton is {Anton} Years old\")\n",
    "    print(f\"Beth is {Beth} Years old\")\n",
    "    print(f\"Chen is {chen} Years old\")\n",
    "    print(f\"Drew is {Drew} Years old\")\n",
    "    print(f\"Ethan is {Ethan} Years old\")\n",
    "if __name__ == '__main__':\n",
    "    main()"
   ]
  },
  {
   "cell_type": "code",
   "execution_count": null,
   "id": "e217088f",
   "metadata": {},
   "outputs": [],
   "source": [
    "#05_triangle_perimeter\n",
    "def main():\n",
    "  print(\"This program is used to calculate the Perimeter of Triangle\")\n",
    "  sidea = float(input(\"Enter the length of side a: \"))\n",
    "  sideb = float(input(\"Enter the length of side b: \"))\n",
    "  sidec = float(input(\"Enter the length of side c: \"))\n",
    "  perimeter = sidea + sideb + sidec\n",
    "  print(f\"The perimeter of the triangle is {perimeter}\")\n",
    "\n",
    "\n",
    "\n",
    "# This provided line is required at the end of\n",
    "# Python file to call the main() function.\n",
    "if __name__ == '__main__':\n",
    "    main()"
   ]
  }
 ],
 "metadata": {
  "kernelspec": {
   "display_name": "base",
   "language": "python",
   "name": "python3"
  },
  "language_info": {
   "codemirror_mode": {
    "name": "ipython",
    "version": 3
   },
   "file_extension": ".py",
   "mimetype": "text/x-python",
   "name": "python",
   "nbconvert_exporter": "python",
   "pygments_lexer": "ipython3",
   "version": "3.12.9"
  }
 },
 "nbformat": 4,
 "nbformat_minor": 5
}
